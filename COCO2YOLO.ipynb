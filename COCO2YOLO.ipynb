{
 "cells": [
  {
   "cell_type": "markdown",
   "id": "6661a3da-79d1-4ab6-8325-cac71b46661d",
   "metadata": {},
   "source": [
    "# COCO to YOLO Conversion Tool"
   ]
  },
  {
   "cell_type": "markdown",
   "id": "e1b65988-4416-4588-8fa8-c7d3812218d9",
   "metadata": {},
   "source": [
    "## Dependencies"
   ]
  },
  {
   "cell_type": "markdown",
   "id": "a7eb882d-a738-494b-b0b2-09a6e01a4f79",
   "metadata": {},
   "source": [
    "### Install packages"
   ]
  },
  {
   "cell_type": "code",
   "execution_count": 24,
   "id": "8d01856a-acff-43d1-b876-c6fff556ea05",
   "metadata": {
    "collapsed": true,
    "jupyter": {
     "outputs_hidden": true
    }
   },
   "outputs": [
    {
     "name": "stdout",
     "output_type": "stream",
     "text": [
      "Requirement already satisfied: notebook in ./.venv/lib/python3.12/site-packages (from -r requirements.txt (line 1)) (7.2.1)\n",
      "Requirement already satisfied: tqdm in ./.venv/lib/python3.12/site-packages (from -r requirements.txt (line 2)) (4.66.5)\n",
      "Requirement already satisfied: jupyter-server<3,>=2.4.0 in ./.venv/lib/python3.12/site-packages (from notebook->-r requirements.txt (line 1)) (2.14.2)\n",
      "Requirement already satisfied: jupyterlab-server<3,>=2.27.1 in ./.venv/lib/python3.12/site-packages (from notebook->-r requirements.txt (line 1)) (2.27.3)\n",
      "Requirement already satisfied: jupyterlab<4.3,>=4.2.0 in ./.venv/lib/python3.12/site-packages (from notebook->-r requirements.txt (line 1)) (4.2.4)\n",
      "Requirement already satisfied: notebook-shim<0.3,>=0.2 in ./.venv/lib/python3.12/site-packages (from notebook->-r requirements.txt (line 1)) (0.2.4)\n",
      "Requirement already satisfied: tornado>=6.2.0 in ./.venv/lib/python3.12/site-packages (from notebook->-r requirements.txt (line 1)) (6.4.1)\n",
      "Requirement already satisfied: anyio>=3.1.0 in ./.venv/lib/python3.12/site-packages (from jupyter-server<3,>=2.4.0->notebook->-r requirements.txt (line 1)) (4.4.0)\n",
      "Requirement already satisfied: argon2-cffi>=21.1 in ./.venv/lib/python3.12/site-packages (from jupyter-server<3,>=2.4.0->notebook->-r requirements.txt (line 1)) (23.1.0)\n",
      "Requirement already satisfied: jinja2>=3.0.3 in ./.venv/lib/python3.12/site-packages (from jupyter-server<3,>=2.4.0->notebook->-r requirements.txt (line 1)) (3.1.4)\n",
      "Requirement already satisfied: jupyter-client>=7.4.4 in ./.venv/lib/python3.12/site-packages (from jupyter-server<3,>=2.4.0->notebook->-r requirements.txt (line 1)) (8.6.2)\n",
      "Requirement already satisfied: jupyter-core!=5.0.*,>=4.12 in ./.venv/lib/python3.12/site-packages (from jupyter-server<3,>=2.4.0->notebook->-r requirements.txt (line 1)) (5.7.2)\n",
      "Requirement already satisfied: jupyter-events>=0.9.0 in ./.venv/lib/python3.12/site-packages (from jupyter-server<3,>=2.4.0->notebook->-r requirements.txt (line 1)) (0.10.0)\n",
      "Requirement already satisfied: jupyter-server-terminals>=0.4.4 in ./.venv/lib/python3.12/site-packages (from jupyter-server<3,>=2.4.0->notebook->-r requirements.txt (line 1)) (0.5.3)\n",
      "Requirement already satisfied: nbconvert>=6.4.4 in ./.venv/lib/python3.12/site-packages (from jupyter-server<3,>=2.4.0->notebook->-r requirements.txt (line 1)) (7.16.4)\n",
      "Requirement already satisfied: nbformat>=5.3.0 in ./.venv/lib/python3.12/site-packages (from jupyter-server<3,>=2.4.0->notebook->-r requirements.txt (line 1)) (5.10.4)\n",
      "Requirement already satisfied: overrides>=5.0 in ./.venv/lib/python3.12/site-packages (from jupyter-server<3,>=2.4.0->notebook->-r requirements.txt (line 1)) (7.7.0)\n",
      "Requirement already satisfied: packaging>=22.0 in ./.venv/lib/python3.12/site-packages (from jupyter-server<3,>=2.4.0->notebook->-r requirements.txt (line 1)) (24.1)\n",
      "Requirement already satisfied: prometheus-client>=0.9 in ./.venv/lib/python3.12/site-packages (from jupyter-server<3,>=2.4.0->notebook->-r requirements.txt (line 1)) (0.20.0)\n",
      "Requirement already satisfied: pyzmq>=24 in ./.venv/lib/python3.12/site-packages (from jupyter-server<3,>=2.4.0->notebook->-r requirements.txt (line 1)) (26.1.0)\n",
      "Requirement already satisfied: send2trash>=1.8.2 in ./.venv/lib/python3.12/site-packages (from jupyter-server<3,>=2.4.0->notebook->-r requirements.txt (line 1)) (1.8.3)\n",
      "Requirement already satisfied: terminado>=0.8.3 in ./.venv/lib/python3.12/site-packages (from jupyter-server<3,>=2.4.0->notebook->-r requirements.txt (line 1)) (0.18.1)\n",
      "Requirement already satisfied: traitlets>=5.6.0 in ./.venv/lib/python3.12/site-packages (from jupyter-server<3,>=2.4.0->notebook->-r requirements.txt (line 1)) (5.14.3)\n",
      "Requirement already satisfied: websocket-client>=1.7 in ./.venv/lib/python3.12/site-packages (from jupyter-server<3,>=2.4.0->notebook->-r requirements.txt (line 1)) (1.8.0)\n",
      "Requirement already satisfied: async-lru>=1.0.0 in ./.venv/lib/python3.12/site-packages (from jupyterlab<4.3,>=4.2.0->notebook->-r requirements.txt (line 1)) (2.0.4)\n",
      "Requirement already satisfied: httpx>=0.25.0 in ./.venv/lib/python3.12/site-packages (from jupyterlab<4.3,>=4.2.0->notebook->-r requirements.txt (line 1)) (0.27.0)\n",
      "Requirement already satisfied: ipykernel>=6.5.0 in ./.venv/lib/python3.12/site-packages (from jupyterlab<4.3,>=4.2.0->notebook->-r requirements.txt (line 1)) (6.29.5)\n",
      "Requirement already satisfied: jupyter-lsp>=2.0.0 in ./.venv/lib/python3.12/site-packages (from jupyterlab<4.3,>=4.2.0->notebook->-r requirements.txt (line 1)) (2.2.5)\n",
      "Requirement already satisfied: setuptools>=40.1.0 in ./.venv/lib/python3.12/site-packages (from jupyterlab<4.3,>=4.2.0->notebook->-r requirements.txt (line 1)) (72.2.0)\n",
      "Requirement already satisfied: babel>=2.10 in ./.venv/lib/python3.12/site-packages (from jupyterlab-server<3,>=2.27.1->notebook->-r requirements.txt (line 1)) (2.16.0)\n",
      "Requirement already satisfied: json5>=0.9.0 in ./.venv/lib/python3.12/site-packages (from jupyterlab-server<3,>=2.27.1->notebook->-r requirements.txt (line 1)) (0.9.25)\n",
      "Requirement already satisfied: jsonschema>=4.18.0 in ./.venv/lib/python3.12/site-packages (from jupyterlab-server<3,>=2.27.1->notebook->-r requirements.txt (line 1)) (4.23.0)\n",
      "Requirement already satisfied: requests>=2.31 in ./.venv/lib/python3.12/site-packages (from jupyterlab-server<3,>=2.27.1->notebook->-r requirements.txt (line 1)) (2.32.3)\n",
      "Requirement already satisfied: idna>=2.8 in ./.venv/lib/python3.12/site-packages (from anyio>=3.1.0->jupyter-server<3,>=2.4.0->notebook->-r requirements.txt (line 1)) (3.7)\n",
      "Requirement already satisfied: sniffio>=1.1 in ./.venv/lib/python3.12/site-packages (from anyio>=3.1.0->jupyter-server<3,>=2.4.0->notebook->-r requirements.txt (line 1)) (1.3.1)\n",
      "Requirement already satisfied: argon2-cffi-bindings in ./.venv/lib/python3.12/site-packages (from argon2-cffi>=21.1->jupyter-server<3,>=2.4.0->notebook->-r requirements.txt (line 1)) (21.2.0)\n",
      "Requirement already satisfied: certifi in ./.venv/lib/python3.12/site-packages (from httpx>=0.25.0->jupyterlab<4.3,>=4.2.0->notebook->-r requirements.txt (line 1)) (2024.7.4)\n",
      "Requirement already satisfied: httpcore==1.* in ./.venv/lib/python3.12/site-packages (from httpx>=0.25.0->jupyterlab<4.3,>=4.2.0->notebook->-r requirements.txt (line 1)) (1.0.5)\n",
      "Requirement already satisfied: h11<0.15,>=0.13 in ./.venv/lib/python3.12/site-packages (from httpcore==1.*->httpx>=0.25.0->jupyterlab<4.3,>=4.2.0->notebook->-r requirements.txt (line 1)) (0.14.0)\n",
      "Requirement already satisfied: comm>=0.1.1 in ./.venv/lib/python3.12/site-packages (from ipykernel>=6.5.0->jupyterlab<4.3,>=4.2.0->notebook->-r requirements.txt (line 1)) (0.2.2)\n",
      "Requirement already satisfied: debugpy>=1.6.5 in ./.venv/lib/python3.12/site-packages (from ipykernel>=6.5.0->jupyterlab<4.3,>=4.2.0->notebook->-r requirements.txt (line 1)) (1.8.5)\n",
      "Requirement already satisfied: ipython>=7.23.1 in ./.venv/lib/python3.12/site-packages (from ipykernel>=6.5.0->jupyterlab<4.3,>=4.2.0->notebook->-r requirements.txt (line 1)) (8.26.0)\n",
      "Requirement already satisfied: matplotlib-inline>=0.1 in ./.venv/lib/python3.12/site-packages (from ipykernel>=6.5.0->jupyterlab<4.3,>=4.2.0->notebook->-r requirements.txt (line 1)) (0.1.7)\n",
      "Requirement already satisfied: nest-asyncio in ./.venv/lib/python3.12/site-packages (from ipykernel>=6.5.0->jupyterlab<4.3,>=4.2.0->notebook->-r requirements.txt (line 1)) (1.6.0)\n",
      "Requirement already satisfied: psutil in ./.venv/lib/python3.12/site-packages (from ipykernel>=6.5.0->jupyterlab<4.3,>=4.2.0->notebook->-r requirements.txt (line 1)) (6.0.0)\n",
      "Requirement already satisfied: MarkupSafe>=2.0 in ./.venv/lib/python3.12/site-packages (from jinja2>=3.0.3->jupyter-server<3,>=2.4.0->notebook->-r requirements.txt (line 1)) (2.1.5)\n",
      "Requirement already satisfied: attrs>=22.2.0 in ./.venv/lib/python3.12/site-packages (from jsonschema>=4.18.0->jupyterlab-server<3,>=2.27.1->notebook->-r requirements.txt (line 1)) (24.2.0)\n",
      "Requirement already satisfied: jsonschema-specifications>=2023.03.6 in ./.venv/lib/python3.12/site-packages (from jsonschema>=4.18.0->jupyterlab-server<3,>=2.27.1->notebook->-r requirements.txt (line 1)) (2023.12.1)\n",
      "Requirement already satisfied: referencing>=0.28.4 in ./.venv/lib/python3.12/site-packages (from jsonschema>=4.18.0->jupyterlab-server<3,>=2.27.1->notebook->-r requirements.txt (line 1)) (0.35.1)\n",
      "Requirement already satisfied: rpds-py>=0.7.1 in ./.venv/lib/python3.12/site-packages (from jsonschema>=4.18.0->jupyterlab-server<3,>=2.27.1->notebook->-r requirements.txt (line 1)) (0.20.0)\n",
      "Requirement already satisfied: python-dateutil>=2.8.2 in ./.venv/lib/python3.12/site-packages (from jupyter-client>=7.4.4->jupyter-server<3,>=2.4.0->notebook->-r requirements.txt (line 1)) (2.9.0.post0)\n",
      "Requirement already satisfied: platformdirs>=2.5 in ./.venv/lib/python3.12/site-packages (from jupyter-core!=5.0.*,>=4.12->jupyter-server<3,>=2.4.0->notebook->-r requirements.txt (line 1)) (4.2.2)\n",
      "Requirement already satisfied: python-json-logger>=2.0.4 in ./.venv/lib/python3.12/site-packages (from jupyter-events>=0.9.0->jupyter-server<3,>=2.4.0->notebook->-r requirements.txt (line 1)) (2.0.7)\n",
      "Requirement already satisfied: pyyaml>=5.3 in ./.venv/lib/python3.12/site-packages (from jupyter-events>=0.9.0->jupyter-server<3,>=2.4.0->notebook->-r requirements.txt (line 1)) (6.0.2)\n",
      "Requirement already satisfied: rfc3339-validator in ./.venv/lib/python3.12/site-packages (from jupyter-events>=0.9.0->jupyter-server<3,>=2.4.0->notebook->-r requirements.txt (line 1)) (0.1.4)\n",
      "Requirement already satisfied: rfc3986-validator>=0.1.1 in ./.venv/lib/python3.12/site-packages (from jupyter-events>=0.9.0->jupyter-server<3,>=2.4.0->notebook->-r requirements.txt (line 1)) (0.1.1)\n",
      "Requirement already satisfied: beautifulsoup4 in ./.venv/lib/python3.12/site-packages (from nbconvert>=6.4.4->jupyter-server<3,>=2.4.0->notebook->-r requirements.txt (line 1)) (4.12.3)\n",
      "Requirement already satisfied: bleach!=5.0.0 in ./.venv/lib/python3.12/site-packages (from nbconvert>=6.4.4->jupyter-server<3,>=2.4.0->notebook->-r requirements.txt (line 1)) (6.1.0)\n",
      "Requirement already satisfied: defusedxml in ./.venv/lib/python3.12/site-packages (from nbconvert>=6.4.4->jupyter-server<3,>=2.4.0->notebook->-r requirements.txt (line 1)) (0.7.1)\n",
      "Requirement already satisfied: jupyterlab-pygments in ./.venv/lib/python3.12/site-packages (from nbconvert>=6.4.4->jupyter-server<3,>=2.4.0->notebook->-r requirements.txt (line 1)) (0.3.0)\n",
      "Requirement already satisfied: mistune<4,>=2.0.3 in ./.venv/lib/python3.12/site-packages (from nbconvert>=6.4.4->jupyter-server<3,>=2.4.0->notebook->-r requirements.txt (line 1)) (3.0.2)\n",
      "Requirement already satisfied: nbclient>=0.5.0 in ./.venv/lib/python3.12/site-packages (from nbconvert>=6.4.4->jupyter-server<3,>=2.4.0->notebook->-r requirements.txt (line 1)) (0.10.0)\n",
      "Requirement already satisfied: pandocfilters>=1.4.1 in ./.venv/lib/python3.12/site-packages (from nbconvert>=6.4.4->jupyter-server<3,>=2.4.0->notebook->-r requirements.txt (line 1)) (1.5.1)\n",
      "Requirement already satisfied: pygments>=2.4.1 in ./.venv/lib/python3.12/site-packages (from nbconvert>=6.4.4->jupyter-server<3,>=2.4.0->notebook->-r requirements.txt (line 1)) (2.18.0)\n",
      "Requirement already satisfied: tinycss2 in ./.venv/lib/python3.12/site-packages (from nbconvert>=6.4.4->jupyter-server<3,>=2.4.0->notebook->-r requirements.txt (line 1)) (1.3.0)\n",
      "Requirement already satisfied: fastjsonschema>=2.15 in ./.venv/lib/python3.12/site-packages (from nbformat>=5.3.0->jupyter-server<3,>=2.4.0->notebook->-r requirements.txt (line 1)) (2.20.0)\n",
      "Requirement already satisfied: charset-normalizer<4,>=2 in ./.venv/lib/python3.12/site-packages (from requests>=2.31->jupyterlab-server<3,>=2.27.1->notebook->-r requirements.txt (line 1)) (3.3.2)\n",
      "Requirement already satisfied: urllib3<3,>=1.21.1 in ./.venv/lib/python3.12/site-packages (from requests>=2.31->jupyterlab-server<3,>=2.27.1->notebook->-r requirements.txt (line 1)) (2.2.2)\n",
      "Requirement already satisfied: ptyprocess in ./.venv/lib/python3.12/site-packages (from terminado>=0.8.3->jupyter-server<3,>=2.4.0->notebook->-r requirements.txt (line 1)) (0.7.0)\n",
      "Requirement already satisfied: six>=1.9.0 in ./.venv/lib/python3.12/site-packages (from bleach!=5.0.0->nbconvert>=6.4.4->jupyter-server<3,>=2.4.0->notebook->-r requirements.txt (line 1)) (1.16.0)\n",
      "Requirement already satisfied: webencodings in ./.venv/lib/python3.12/site-packages (from bleach!=5.0.0->nbconvert>=6.4.4->jupyter-server<3,>=2.4.0->notebook->-r requirements.txt (line 1)) (0.5.1)\n",
      "Requirement already satisfied: decorator in ./.venv/lib/python3.12/site-packages (from ipython>=7.23.1->ipykernel>=6.5.0->jupyterlab<4.3,>=4.2.0->notebook->-r requirements.txt (line 1)) (5.1.1)\n",
      "Requirement already satisfied: jedi>=0.16 in ./.venv/lib/python3.12/site-packages (from ipython>=7.23.1->ipykernel>=6.5.0->jupyterlab<4.3,>=4.2.0->notebook->-r requirements.txt (line 1)) (0.19.1)\n",
      "Requirement already satisfied: prompt-toolkit<3.1.0,>=3.0.41 in ./.venv/lib/python3.12/site-packages (from ipython>=7.23.1->ipykernel>=6.5.0->jupyterlab<4.3,>=4.2.0->notebook->-r requirements.txt (line 1)) (3.0.47)\n",
      "Requirement already satisfied: stack-data in ./.venv/lib/python3.12/site-packages (from ipython>=7.23.1->ipykernel>=6.5.0->jupyterlab<4.3,>=4.2.0->notebook->-r requirements.txt (line 1)) (0.6.3)\n",
      "Requirement already satisfied: pexpect>4.3 in ./.venv/lib/python3.12/site-packages (from ipython>=7.23.1->ipykernel>=6.5.0->jupyterlab<4.3,>=4.2.0->notebook->-r requirements.txt (line 1)) (4.9.0)\n",
      "Requirement already satisfied: fqdn in ./.venv/lib/python3.12/site-packages (from jsonschema[format-nongpl]>=4.18.0->jupyter-events>=0.9.0->jupyter-server<3,>=2.4.0->notebook->-r requirements.txt (line 1)) (1.5.1)\n",
      "Requirement already satisfied: isoduration in ./.venv/lib/python3.12/site-packages (from jsonschema[format-nongpl]>=4.18.0->jupyter-events>=0.9.0->jupyter-server<3,>=2.4.0->notebook->-r requirements.txt (line 1)) (20.11.0)\n",
      "Requirement already satisfied: jsonpointer>1.13 in ./.venv/lib/python3.12/site-packages (from jsonschema[format-nongpl]>=4.18.0->jupyter-events>=0.9.0->jupyter-server<3,>=2.4.0->notebook->-r requirements.txt (line 1)) (3.0.0)\n",
      "Requirement already satisfied: uri-template in ./.venv/lib/python3.12/site-packages (from jsonschema[format-nongpl]>=4.18.0->jupyter-events>=0.9.0->jupyter-server<3,>=2.4.0->notebook->-r requirements.txt (line 1)) (1.3.0)\n",
      "Requirement already satisfied: webcolors>=24.6.0 in ./.venv/lib/python3.12/site-packages (from jsonschema[format-nongpl]>=4.18.0->jupyter-events>=0.9.0->jupyter-server<3,>=2.4.0->notebook->-r requirements.txt (line 1)) (24.8.0)\n",
      "Requirement already satisfied: cffi>=1.0.1 in ./.venv/lib/python3.12/site-packages (from argon2-cffi-bindings->argon2-cffi>=21.1->jupyter-server<3,>=2.4.0->notebook->-r requirements.txt (line 1)) (1.17.0)\n",
      "Requirement already satisfied: soupsieve>1.2 in ./.venv/lib/python3.12/site-packages (from beautifulsoup4->nbconvert>=6.4.4->jupyter-server<3,>=2.4.0->notebook->-r requirements.txt (line 1)) (2.6)\n",
      "Requirement already satisfied: pycparser in ./.venv/lib/python3.12/site-packages (from cffi>=1.0.1->argon2-cffi-bindings->argon2-cffi>=21.1->jupyter-server<3,>=2.4.0->notebook->-r requirements.txt (line 1)) (2.22)\n",
      "Requirement already satisfied: parso<0.9.0,>=0.8.3 in ./.venv/lib/python3.12/site-packages (from jedi>=0.16->ipython>=7.23.1->ipykernel>=6.5.0->jupyterlab<4.3,>=4.2.0->notebook->-r requirements.txt (line 1)) (0.8.4)\n",
      "Requirement already satisfied: wcwidth in ./.venv/lib/python3.12/site-packages (from prompt-toolkit<3.1.0,>=3.0.41->ipython>=7.23.1->ipykernel>=6.5.0->jupyterlab<4.3,>=4.2.0->notebook->-r requirements.txt (line 1)) (0.2.13)\n",
      "Requirement already satisfied: arrow>=0.15.0 in ./.venv/lib/python3.12/site-packages (from isoduration->jsonschema[format-nongpl]>=4.18.0->jupyter-events>=0.9.0->jupyter-server<3,>=2.4.0->notebook->-r requirements.txt (line 1)) (1.3.0)\n",
      "Requirement already satisfied: executing>=1.2.0 in ./.venv/lib/python3.12/site-packages (from stack-data->ipython>=7.23.1->ipykernel>=6.5.0->jupyterlab<4.3,>=4.2.0->notebook->-r requirements.txt (line 1)) (2.0.1)\n",
      "Requirement already satisfied: asttokens>=2.1.0 in ./.venv/lib/python3.12/site-packages (from stack-data->ipython>=7.23.1->ipykernel>=6.5.0->jupyterlab<4.3,>=4.2.0->notebook->-r requirements.txt (line 1)) (2.4.1)\n",
      "Requirement already satisfied: pure-eval in ./.venv/lib/python3.12/site-packages (from stack-data->ipython>=7.23.1->ipykernel>=6.5.0->jupyterlab<4.3,>=4.2.0->notebook->-r requirements.txt (line 1)) (0.2.3)\n",
      "Requirement already satisfied: types-python-dateutil>=2.8.10 in ./.venv/lib/python3.12/site-packages (from arrow>=0.15.0->isoduration->jsonschema[format-nongpl]>=4.18.0->jupyter-events>=0.9.0->jupyter-server<3,>=2.4.0->notebook->-r requirements.txt (line 1)) (2.9.0.20240316)\n",
      "\n",
      "\u001b[1m[\u001b[0m\u001b[34;49mnotice\u001b[0m\u001b[1;39;49m]\u001b[0m\u001b[39;49m A new release of pip is available: \u001b[0m\u001b[31;49m24.0\u001b[0m\u001b[39;49m -> \u001b[0m\u001b[32;49m24.2\u001b[0m\n",
      "\u001b[1m[\u001b[0m\u001b[34;49mnotice\u001b[0m\u001b[1;39;49m]\u001b[0m\u001b[39;49m To update, run: \u001b[0m\u001b[32;49mpip install --upgrade pip\u001b[0m\n",
      "Note: you may need to restart the kernel to use updated packages.\n"
     ]
    }
   ],
   "source": [
    "%pip install -r requirements.txt"
   ]
  },
  {
   "cell_type": "markdown",
   "id": "176ec829-828e-4a9b-819c-d9745ae9a45f",
   "metadata": {},
   "source": [
    "### Import packages"
   ]
  },
  {
   "cell_type": "code",
   "execution_count": 25,
   "id": "be9452a8-089c-4432-8b66-6f6731af32ea",
   "metadata": {},
   "outputs": [],
   "source": [
    "import json\n",
    "import os\n",
    "import shutil\n",
    "\n",
    "from tqdm import tqdm"
   ]
  },
  {
   "cell_type": "markdown",
   "id": "a8b64252-494c-4761-ac05-fb9f803ba1e5",
   "metadata": {},
   "source": [
    "## Conversion Tool"
   ]
  },
  {
   "cell_type": "markdown",
   "id": "8af08c30-2c1a-4161-ab6f-87e76a9ac198",
   "metadata": {},
   "source": [
    "### Conversion Function"
   ]
  },
  {
   "cell_type": "code",
   "execution_count": 26,
   "id": "1ca5e114-d93c-4c1c-93cb-b74ec22e9465",
   "metadata": {},
   "outputs": [],
   "source": [
    "def convertCOCOtoYOLO(jsonPath, outputPath, categories):\n",
    "    print(f\"Reading JSON from: {jsonPath}\")\n",
    "    print(f\"Output directory: {outputPath}\")\n",
    "\n",
    "    # If the output directory exists, delete it\n",
    "    if os.path.exists(outputPath):\n",
    "        shutil.rmtree(outputPath)\n",
    "\n",
    "    # Create the new output directory\n",
    "    os.makedirs(outputPath)\n",
    "\n",
    "    with open(jsonPath) as f:\n",
    "        data = json.load(f)\n",
    "\n",
    "    images = data[\"images\"]\n",
    "\n",
    "    # Set up the progress bar\n",
    "    with tqdm(total=len(images), desc=\"Converting COCO to YOLO\", unit=\"image\") as pbar:\n",
    "        for image in images:\n",
    "            imageID = image[\"id\"]\n",
    "            fileName = image[\"file_name\"]\n",
    "\n",
    "            # Intercept the path and remove any leading directory\n",
    "            fileName = os.path.basename(fileName)  # Keeps only the file name, removing directories\n",
    "\n",
    "            width = image[\"width\"]\n",
    "            height = image[\"height\"]\n",
    "\n",
    "            annotations = [\n",
    "                ann\n",
    "                for ann in data[\"annotations\"]\n",
    "                if ann[\"image_id\"] == imageID and 0 <= ann[\"category_id\"] <= categories\n",
    "            ]\n",
    "\n",
    "            outputFilePath = os.path.join(outputPath, f\"{os.path.splitext(fileName)[0]}.txt\")\n",
    "\n",
    "            # Ensure the directory for the output file exists\n",
    "            outputFileDir = os.path.dirname(outputFilePath)\n",
    "            if not os.path.exists(outputFileDir):\n",
    "                os.makedirs(outputFileDir)\n",
    "\n",
    "            if annotations:\n",
    "                with open(outputFilePath, \"w\") as f:\n",
    "                    for ann in annotations:\n",
    "                        categoryID = ann[\"category_id\"]\n",
    "                        bbox = ann[\"bbox\"]\n",
    "                        xCenter = (bbox[0] + bbox[2] / 2) / width\n",
    "                        yCenter = (bbox[1] + bbox[3] / 2) / height\n",
    "                        w = bbox[2] / width\n",
    "                        h = bbox[3] / height\n",
    "                        f.write(f\"{categoryID} {xCenter} {yCenter} {w} {h}\\n\")\n",
    "\n",
    "            # Update the progress bar\n",
    "            pbar.update(1)"
   ]
  },
  {
   "cell_type": "markdown",
   "id": "9ceecf12-1cd7-4890-8b36-79730dc57701",
   "metadata": {},
   "source": [
    "### Conversion Operation"
   ]
  },
  {
   "cell_type": "code",
   "execution_count": 27,
   "id": "890ad5c9-8590-4c04-8533-52f8deba4c2e",
   "metadata": {},
   "outputs": [],
   "source": [
    "# Call the function with the JSON files and respective category counts\n",
    "#convertCOCOtoYOLO(\"./annotations/coco_train.json\", \"./outputs/coco_train\", 13)\n",
    "#convertCOCOtoYOLO(\"./annotations/coco_validation.json\", \"./outputs/coco_validation\", 13)\n",
    "#convertCOCOtoYOLO(\"./annotations/coco_test.json\", \"./outputs/coco_test\", 13)\n",
    "#convertCOCOtoYOLO(\"./annotations/thermalCoco_train.json\", \"./outputs/thermalCoco_train\", 15)\n",
    "#convertCOCOtoYOLO(\"./annotations/thermalCoco_validation.json\", \"./outputs/thermalCoco_validation\", 15)\n",
    "#convertCOCOtoYOLO(\"./annotations/thermalCoco_test.json\", \"./outputs/thermalCoco_test\", 15)"
   ]
  }
 ],
 "metadata": {
  "kernelspec": {
   "display_name": "Python 3 (ipykernel)",
   "language": "python",
   "name": "python3"
  },
  "language_info": {
   "codemirror_mode": {
    "name": "ipython",
    "version": 3
   },
   "file_extension": ".py",
   "mimetype": "text/x-python",
   "name": "python",
   "nbconvert_exporter": "python",
   "pygments_lexer": "ipython3",
   "version": "3.12.4"
  }
 },
 "nbformat": 4,
 "nbformat_minor": 5
}
